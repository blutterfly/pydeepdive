{
 "cells": [
  {
   "cell_type": "markdown",
   "id": "be1d7a08-630a-439a-b6e8-029c93991f52",
   "metadata": {},
   "source": [
    "### Headline "
   ]
  },
  {
   "cell_type": "markdown",
   "id": "c194cc3d-8567-471d-9fd2-556e337411a3",
   "metadata": {},
   "source": [
    "Bullets\n",
    "- red\n",
    "- blue"
   ]
  },
  {
   "cell_type": "code",
   "execution_count": null,
   "id": "00812da4-286d-4753-b494-88ea3e04c259",
   "metadata": {},
   "outputs": [],
   "source": [
    "list_colors = ['read"
   ]
  }
 ],
 "metadata": {
  "kernelspec": {
   "display_name": "Python 3 (ipykernel)",
   "language": "python",
   "name": "python3"
  },
  "language_info": {
   "codemirror_mode": {
    "name": "ipython",
    "version": 3
   },
   "file_extension": ".py",
   "mimetype": "text/x-python",
   "name": "python",
   "nbconvert_exporter": "python",
   "pygments_lexer": "ipython3",
   "version": "3.10.12"
  }
 },
 "nbformat": 4,
 "nbformat_minor": 5
}
